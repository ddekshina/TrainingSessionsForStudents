{
  "nbformat": 4,
  "nbformat_minor": 0,
  "metadata": {
    "colab": {
      "provenance": [],
      "include_colab_link": true
    },
    "kernelspec": {
      "name": "python3",
      "display_name": "Python 3"
    },
    "language_info": {
      "name": "python"
    }
  },
  "cells": [
    {
      "cell_type": "markdown",
      "metadata": {
        "id": "view-in-github",
        "colab_type": "text"
      },
      "source": [
        "<a href=\"https://colab.research.google.com/github/ddekshina/TrainingSessionsForStudents/blob/main/DNN.ipynb\" target=\"_parent\"><img src=\"https://colab.research.google.com/assets/colab-badge.svg\" alt=\"Open In Colab\"/></a>"
      ]
    },
    {
      "cell_type": "code",
      "source": [
        "import tensorflow as tf\n",
        "from tensorflow import keras\n",
        "from tensorflow.keras.layers import Dense, Flatten\n",
        "import numpy as np\n",
        "import pandas as pd\n",
        "from google.colab import drive\n",
        "import os"
      ],
      "metadata": {
        "id": "MP9RxQyBX_qA"
      },
      "execution_count": 2,
      "outputs": []
    },
    {
      "cell_type": "code",
      "source": [
        "# 1. Mount Google Drive\n",
        "drive.mount('/content/drive')\n",
        "\n",
        "# Define the folder path in Google Drive\n",
        "drive_folder = \"/content/drive/MyDrive/Datasets\"\n",
        "os.makedirs(drive_folder, exist_ok=True)  # Create the folder if it doesn't exist\n",
        "\n",
        "# Paths for saving CSV files\n",
        "train_csv_path = os.path.join(drive_folder, \"mnist_train.csv\")\n",
        "test_csv_path = os.path.join(drive_folder, \"mnist_test.csv\")\n",
        "\n",
        "# Check if the dataset already exists in Google Drive\n",
        "if os.path.exists(train_csv_path) and os.path.exists(test_csv_path):\n",
        "    print(\"Dataset already exists in Google Drive. Loading from CSV files...\")\n",
        "else:\n",
        "    # 2. Download the MNIST dataset\n",
        "    print(\"Downloading MNIST dataset...\")\n",
        "    (x_train, y_train), (x_test, y_test) = keras.datasets.mnist.load_data()\n",
        "\n",
        "    # Normalize the pixel values to [0, 1]\n",
        "    x_train = x_train.astype('float32') / 255.0\n",
        "    x_test = x_test.astype('float32') / 255.0\n",
        "\n",
        "    # Flatten the images (28x28 -> 784)\n",
        "    x_train_flat = x_train.reshape(x_train.shape[0], -1)\n",
        "    x_test_flat = x_test.reshape(x_test.shape[0], -1)\n",
        "\n",
        "    # One-hot encode the labels\n",
        "    y_train_onehot = tf.keras.utils.to_categorical(y_train, num_classes=10)\n",
        "    y_test_onehot = tf.keras.utils.to_categorical(y_test, num_classes=10)\n",
        "\n",
        "    # Combine features and labels into a single DataFrame\n",
        "    train_df = pd.DataFrame(np.hstack([x_train_flat, y_train_onehot]))\n",
        "    test_df = pd.DataFrame(np.hstack([x_test_flat, y_test_onehot]))\n",
        "\n",
        "    # Save to CSV in Google Drive\n",
        "    train_df.to_csv(train_csv_path, index=False, header=False)\n",
        "    test_df.to_csv(test_csv_path, index=False, header=False)\n",
        "\n",
        "    print(f\"Training data saved to {train_csv_path}\")\n",
        "    print(f\"Testing data saved to {test_csv_path}\")"
      ],
      "metadata": {
        "id": "miq1wibOZSw3",
        "outputId": "bca6594f-c8be-46d9-b7b0-9f04208b25d6",
        "colab": {
          "base_uri": "https://localhost:8080/"
        }
      },
      "execution_count": 3,
      "outputs": [
        {
          "output_type": "stream",
          "name": "stdout",
          "text": [
            "Mounted at /content/drive\n",
            "Downloading MNIST dataset...\n",
            "Downloading data from https://storage.googleapis.com/tensorflow/tf-keras-datasets/mnist.npz\n",
            "\u001b[1m11490434/11490434\u001b[0m \u001b[32m━━━━━━━━━━━━━━━━━━━━\u001b[0m\u001b[37m\u001b[0m \u001b[1m0s\u001b[0m 0us/step\n",
            "Training data saved to /content/drive/MyDrive/Datasets/mnist_train.csv\n",
            "Testing data saved to /content/drive/MyDrive/Datasets/mnist_test.csv\n"
          ]
        }
      ]
    },
    {
      "cell_type": "code",
      "source": [
        "# 3. Read the CSV files back into memory\n",
        "print(\"Loading dataset from Google Drive...\")\n",
        "train_data = pd.read_csv(train_csv_path, header=None)\n",
        "test_data = pd.read_csv(test_csv_path, header=None)\n",
        "\n",
        "# Separate features and labels\n",
        "x_train_csv = train_data.iloc[:, :-10].values  # First 784 columns are features\n",
        "y_train_csv = train_data.iloc[:, -10:].values  # Last 10 columns are one-hot labels\n",
        "\n",
        "x_test_csv = test_data.iloc[:, :-10].values\n",
        "y_test_csv = test_data.iloc[:, -10:].values"
      ],
      "metadata": {
        "id": "9YM6yckWYAgz",
        "colab": {
          "base_uri": "https://localhost:8080/"
        },
        "outputId": "7c1adc6c-4f33-4bc0-d3d5-277663b6d1c0"
      },
      "execution_count": 4,
      "outputs": [
        {
          "output_type": "stream",
          "name": "stdout",
          "text": [
            "Loading dataset from Google Drive...\n"
          ]
        }
      ]
    },
    {
      "cell_type": "code",
      "source": [
        "# 4. Define the model\n",
        "model = keras.Sequential([\n",
        "    Flatten(input_shape=(28 * 28,)),  # Flatten input (784 features)\n",
        "    Dense(128, activation='relu'),\n",
        "    Dense(10, activation='softmax')\n",
        "])\n",
        "\n",
        "# 5. Compile the model\n",
        "model.compile(optimizer='adam',\n",
        "              loss='categorical_crossentropy',\n",
        "              metrics=['accuracy'])\n",
        "\n",
        "# 6. Train the model\n",
        "model.fit(x_train_csv, y_train_csv, epochs=5, batch_size=32)"
      ],
      "metadata": {
        "id": "KkiVpwGhYXBF",
        "colab": {
          "base_uri": "https://localhost:8080/"
        },
        "outputId": "d8209d9e-eb63-4356-88a6-f01282c65e80"
      },
      "execution_count": 5,
      "outputs": [
        {
          "output_type": "stream",
          "name": "stderr",
          "text": [
            "/usr/local/lib/python3.11/dist-packages/keras/src/layers/reshaping/flatten.py:37: UserWarning: Do not pass an `input_shape`/`input_dim` argument to a layer. When using Sequential models, prefer using an `Input(shape)` object as the first layer in the model instead.\n",
            "  super().__init__(**kwargs)\n"
          ]
        },
        {
          "output_type": "stream",
          "name": "stdout",
          "text": [
            "Epoch 1/5\n",
            "\u001b[1m1875/1875\u001b[0m \u001b[32m━━━━━━━━━━━━━━━━━━━━\u001b[0m\u001b[37m\u001b[0m \u001b[1m4s\u001b[0m 2ms/step - accuracy: 0.8751 - loss: 0.4366\n",
            "Epoch 2/5\n",
            "\u001b[1m1875/1875\u001b[0m \u001b[32m━━━━━━━━━━━━━━━━━━━━\u001b[0m\u001b[37m\u001b[0m \u001b[1m3s\u001b[0m 2ms/step - accuracy: 0.9642 - loss: 0.1239\n",
            "Epoch 3/5\n",
            "\u001b[1m1875/1875\u001b[0m \u001b[32m━━━━━━━━━━━━━━━━━━━━\u001b[0m\u001b[37m\u001b[0m \u001b[1m6s\u001b[0m 2ms/step - accuracy: 0.9749 - loss: 0.0844\n",
            "Epoch 4/5\n",
            "\u001b[1m1875/1875\u001b[0m \u001b[32m━━━━━━━━━━━━━━━━━━━━\u001b[0m\u001b[37m\u001b[0m \u001b[1m4s\u001b[0m 2ms/step - accuracy: 0.9820 - loss: 0.0593\n",
            "Epoch 5/5\n",
            "\u001b[1m1875/1875\u001b[0m \u001b[32m━━━━━━━━━━━━━━━━━━━━\u001b[0m\u001b[37m\u001b[0m \u001b[1m5s\u001b[0m 2ms/step - accuracy: 0.9861 - loss: 0.0446\n"
          ]
        },
        {
          "output_type": "execute_result",
          "data": {
            "text/plain": [
              "<keras.src.callbacks.history.History at 0x7d7b198319d0>"
            ]
          },
          "metadata": {},
          "execution_count": 5
        }
      ]
    },
    {
      "cell_type": "code",
      "source": [
        "# 7. Evaluate on test data\n",
        "loss, accuracy = model.evaluate(x_test_csv, y_test_csv, verbose=0)\n",
        "print('Test loss:', loss)\n",
        "print('Test accuracy:', accuracy)\n",
        "\n",
        "# 8. Make predictions (optional)\n",
        "predictions = model.predict(x_test_csv)\n",
        "predicted_labels = tf.argmax(predictions, axis=1)\n",
        "\n",
        "# Display first 10 predictions\n",
        "print(predicted_labels[:10])"
      ],
      "metadata": {
        "id": "W_FEHAxPYcjr",
        "colab": {
          "base_uri": "https://localhost:8080/"
        },
        "outputId": "e255664b-df04-42f6-c367-238ba0a4b9ee"
      },
      "execution_count": 6,
      "outputs": [
        {
          "output_type": "stream",
          "name": "stdout",
          "text": [
            "Test loss: 0.07858305424451828\n",
            "Test accuracy: 0.9761000275611877\n",
            "\u001b[1m313/313\u001b[0m \u001b[32m━━━━━━━━━━━━━━━━━━━━\u001b[0m\u001b[37m\u001b[0m \u001b[1m0s\u001b[0m 864us/step\n",
            "tf.Tensor([7 2 1 0 4 1 4 9 6 9], shape=(10,), dtype=int64)\n"
          ]
        }
      ]
    }
  ]
}